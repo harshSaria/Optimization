{
 "cells": [
  {
   "cell_type": "code",
   "execution_count": 1,
   "metadata": {},
   "outputs": [],
   "source": [
    "using JuMP"
   ]
  },
  {
   "cell_type": "code",
   "execution_count": 2,
   "metadata": {},
   "outputs": [],
   "source": [
    "using CPLEX"
   ]
  },
  {
   "cell_type": "code",
   "execution_count": 3,
   "metadata": {},
   "outputs": [
    {
     "data": {
      "text/plain": [
       "A JuMP Model\n",
       "Feasibility problem with:\n",
       "Variables: 0\n",
       "Model mode: AUTOMATIC\n",
       "CachingOptimizer state: EMPTY_OPTIMIZER\n",
       "Solver name: CPLEX"
      ]
     },
     "execution_count": 3,
     "metadata": {},
     "output_type": "execute_result"
    }
   ],
   "source": [
    "model=Model(CPLEX.Optimizer)"
   ]
  },
  {
   "cell_type": "code",
   "execution_count": 4,
   "metadata": {},
   "outputs": [
    {
     "data": {
      "text/plain": [
       "3×2 Matrix{VariableRef}:\n",
       " s[1,1]  s[1,2]\n",
       " s[2,1]  s[2,2]\n",
       " s[3,1]  s[3,2]"
      ]
     },
     "execution_count": 4,
     "metadata": {},
     "output_type": "execute_result"
    }
   ],
   "source": [
    "@variable(model, s[i=1:3,j=1:2],lower_bound=0) # decision variable: quantity supplied from ith grower to jth plant\n"
   ]
  },
  {
   "cell_type": "code",
   "execution_count": 5,
   "metadata": {},
   "outputs": [
    {
     "data": {
      "text/latex": [
       "$$ s_{1,1} + s_{1,2} \\leq 200 $$"
      ],
      "text/plain": [
       "s[1,1] + s[1,2] <= 200"
      ]
     },
     "execution_count": 5,
     "metadata": {},
     "output_type": "execute_result"
    }
   ],
   "source": [
    "@constraint(model, sum(s[1,j] for j=1:2) <= 200) # quantity supplied by s1"
   ]
  },
  {
   "cell_type": "code",
   "execution_count": 6,
   "metadata": {},
   "outputs": [
    {
     "data": {
      "text/latex": [
       "$$ s_{2,1} + s_{2,2} \\leq 310 $$"
      ],
      "text/plain": [
       "s[2,1] + s[2,2] <= 310"
      ]
     },
     "execution_count": 6,
     "metadata": {},
     "output_type": "execute_result"
    }
   ],
   "source": [
    "@constraint(model, sum(s[2,j] for j=1:2) <= 310) # quantity supplied by s2\n"
   ]
  },
  {
   "cell_type": "code",
   "execution_count": 7,
   "metadata": {},
   "outputs": [
    {
     "data": {
      "text/latex": [
       "$$ s_{3,1} + s_{3,2} \\leq 420 $$"
      ],
      "text/plain": [
       "s[3,1] + s[3,2] <= 420"
      ]
     },
     "execution_count": 7,
     "metadata": {},
     "output_type": "execute_result"
    }
   ],
   "source": [
    "@constraint(model, sum(s[3,j] for j=1:2) <= 420) # quantity supplied by s1"
   ]
  },
  {
   "cell_type": "code",
   "execution_count": 8,
   "metadata": {},
   "outputs": [
    {
     "data": {
      "text/latex": [
       "$$ s_{1,1} + s_{2,1} + s_{3,1} \\leq 460 $$"
      ],
      "text/plain": [
       "s[1,1] + s[2,1] + s[3,1] <= 460"
      ]
     },
     "execution_count": 8,
     "metadata": {},
     "output_type": "execute_result"
    }
   ],
   "source": [
    "@constraint(model, sum(s[i,1] for i=1:3) <= 460) # plant A capacity"
   ]
  },
  {
   "cell_type": "code",
   "execution_count": 9,
   "metadata": {},
   "outputs": [
    {
     "data": {
      "text/latex": [
       "$$ s_{1,2} + s_{2,2} + s_{3,2} \\leq 560 $$"
      ],
      "text/plain": [
       "s[1,2] + s[2,2] + s[3,2] <= 560"
      ]
     },
     "execution_count": 9,
     "metadata": {},
     "output_type": "execute_result"
    }
   ],
   "source": [
    "@constraint(model, sum(s[i,2] for i=1:3) <= 560) # plant B capacity"
   ]
  },
  {
   "cell_type": "code",
   "execution_count": 10,
   "metadata": {},
   "outputs": [
    {
     "data": {
      "text/plain": [
       "3-element Vector{Int64}:\n",
       " 1100\n",
       " 1000\n",
       "  900"
      ]
     },
     "execution_count": 10,
     "metadata": {},
     "output_type": "execute_result"
    }
   ],
   "source": [
    "Supply_Rate=[1100,1000,900]"
   ]
  },
  {
   "cell_type": "code",
   "execution_count": 11,
   "metadata": {},
   "outputs": [
    {
     "data": {
      "text/latex": [
       "$$ 1100 s_{1,1} + 1100 s_{1,2} + 1000 s_{2,1} + 1000 s_{2,2} + 900 s_{3,1} + 900 s_{3,2} $$"
      ],
      "text/plain": [
       "1100 s[1,1] + 1100 s[1,2] + 1000 s[2,1] + 1000 s[2,2] + 900 s[3,1] + 900 s[3,2]"
      ]
     },
     "execution_count": 11,
     "metadata": {},
     "output_type": "execute_result"
    }
   ],
   "source": [
    "Supply_Cost=sum(Supply_Rate[i] * sum(s[i,j] for j=1:2) for i=1:3)"
   ]
  },
  {
   "cell_type": "code",
   "execution_count": 12,
   "metadata": {},
   "outputs": [
    {
     "data": {
      "text/plain": [
       "3-element Vector{Vector{Int64}}:\n",
       " [3000, 3500]\n",
       " [2000, 2500]\n",
       " [6000, 4000]"
      ]
     },
     "execution_count": 12,
     "metadata": {},
     "output_type": "execute_result"
    }
   ],
   "source": [
    "Shipping_Rate=[[3000,3500],[2000,2500],[6000,4000]]"
   ]
  },
  {
   "cell_type": "code",
   "execution_count": 13,
   "metadata": {},
   "outputs": [
    {
     "data": {
      "text/latex": [
       "$$ 3000 s_{1,1} + 3500 s_{1,2} + 2000 s_{2,1} + 2500 s_{2,2} + 6000 s_{3,1} + 4000 s_{3,2} $$"
      ],
      "text/plain": [
       "3000 s[1,1] + 3500 s[1,2] + 2000 s[2,1] + 2500 s[2,2] + 6000 s[3,1] + 4000 s[3,2]"
      ]
     },
     "execution_count": 13,
     "metadata": {},
     "output_type": "execute_result"
    }
   ],
   "source": [
    "Shipping_Cost= sum(sum(Shipping_Rate[i][j] * s[i, j] for j = 1:2) for i = 1:3)"
   ]
  },
  {
   "cell_type": "code",
   "execution_count": 14,
   "metadata": {},
   "outputs": [
    {
     "data": {
      "text/latex": [
       "$$ 26000 s_{1,1} + 26000 s_{2,1} + 26000 s_{3,1} + 21000 s_{1,2} + 21000 s_{2,2} + 21000 s_{3,2} $$"
      ],
      "text/plain": [
       "26000 s[1,1] + 26000 s[2,1] + 26000 s[3,1] + 21000 s[1,2] + 21000 s[2,2] + 21000 s[3,2]"
      ]
     },
     "execution_count": 14,
     "metadata": {},
     "output_type": "execute_result"
    }
   ],
   "source": [
    "Labour_Cost = 26000*sum(s[i,1] for i=1:3) + 21000 * sum(s[i,2] for i=1:3)"
   ]
  },
  {
   "cell_type": "code",
   "execution_count": 15,
   "metadata": {},
   "outputs": [
    {
     "data": {
      "text/latex": [
       "$$ 50000 s_{1,1} + 50000 s_{1,2} + 50000 s_{2,1} + 50000 s_{2,2} + 50000 s_{3,1} + 50000 s_{3,2} $$"
      ],
      "text/plain": [
       "50000 s[1,1] + 50000 s[1,2] + 50000 s[2,1] + 50000 s[2,2] + 50000 s[3,1] + 50000 s[3,2]"
      ]
     },
     "execution_count": 15,
     "metadata": {},
     "output_type": "execute_result"
    }
   ],
   "source": [
    "Selling_Price = 50000 * sum(sum(s[i, j] for j = 1:2) for i = 1:3)"
   ]
  },
  {
   "cell_type": "code",
   "execution_count": 16,
   "metadata": {},
   "outputs": [
    {
     "data": {
      "text/latex": [
       "$$ 19900 s_{1,1} + 24400 s_{1,2} + 21000 s_{2,1} + 25500 s_{2,2} + 17100 s_{3,1} + 24100 s_{3,2} $$"
      ],
      "text/plain": [
       "19900 s[1,1] + 24400 s[1,2] + 21000 s[2,1] + 25500 s[2,2] + 17100 s[3,1] + 24100 s[3,2]"
      ]
     },
     "execution_count": 16,
     "metadata": {},
     "output_type": "execute_result"
    }
   ],
   "source": [
    "Profit=Selling_Price-Shipping_Cost-Labour_Cost-Supply_Cost"
   ]
  },
  {
   "cell_type": "code",
   "execution_count": 17,
   "metadata": {},
   "outputs": [
    {
     "data": {
      "text/latex": [
       "$$ 19900 s_{1,1} + 24400 s_{1,2} + 21000 s_{2,1} + 25500 s_{2,2} + 17100 s_{3,1} + 24100 s_{3,2} $$"
      ],
      "text/plain": [
       "19900 s[1,1] + 24400 s[1,2] + 21000 s[2,1] + 25500 s[2,2] + 17100 s[3,1] + 24100 s[3,2]"
      ]
     },
     "execution_count": 17,
     "metadata": {},
     "output_type": "execute_result"
    }
   ],
   "source": [
    "@objective(model,Max,Profit)"
   ]
  },
  {
   "cell_type": "code",
   "execution_count": 18,
   "metadata": {},
   "outputs": [
    {
     "name": "stdout",
     "output_type": "stream",
     "text": [
      "model = A JuMP Model\n",
      "Maximization problem with:\n",
      "Variables: 6\n",
      "Objective function type: AffExpr\n",
      "`AffExpr`-in-`MathOptInterface.LessThan{Float64}`: 5 constraints\n",
      "`VariableRef`-in-`MathOptInterface.GreaterThan{Float64}`: 6 constraints\n",
      "Model mode: AUTOMATIC\n",
      "CachingOptimizer state: EMPTY_OPTIMIZER\n",
      "Solver name: CPLEX\n",
      "Names registered in the model: s\n"
     ]
    },
    {
     "data": {
      "text/plain": [
       "A JuMP Model\n",
       "Maximization problem with:\n",
       "Variables: 6\n",
       "Objective function type: AffExpr\n",
       "`AffExpr`-in-`MathOptInterface.LessThan{Float64}`: 5 constraints\n",
       "`VariableRef`-in-`MathOptInterface.GreaterThan{Float64}`: 6 constraints\n",
       "Model mode: AUTOMATIC\n",
       "CachingOptimizer state: EMPTY_OPTIMIZER\n",
       "Solver name: CPLEX\n",
       "Names registered in the model: s"
      ]
     },
     "execution_count": 18,
     "metadata": {},
     "output_type": "execute_result"
    }
   ],
   "source": [
    "@show model"
   ]
  },
  {
   "cell_type": "code",
   "execution_count": 19,
   "metadata": {},
   "outputs": [
    {
     "name": "stdout",
     "output_type": "stream",
     "text": [
      "CPLEX Error  3003: Not a mixed-integer problem.\n",
      "Version identifier: 22.1.1.0 | 2022-11-26 | 9160aff4d\n",
      "Tried aggregator 1 time.\n",
      "No LP presolve or aggregator reductions.\n",
      "Presolve time = 0.00 sec. (0.00 ticks)\n",
      "\n",
      "Iteration log . . .\n",
      "Iteration:     1   Dual infeasibility =         73999.999998\n",
      "Iteration:     3   Dual objective     =      23159000.000000\n"
     ]
    }
   ],
   "source": [
    "optimize!(model)"
   ]
  },
  {
   "cell_type": "code",
   "execution_count": 20,
   "metadata": {
    "scrolled": true
   },
   "outputs": [
    {
     "name": "stdout",
     "output_type": "stream",
     "text": [
      "value.(s) = [200.0 0.0; 170.0 140.0; 0.0 420.0]\n"
     ]
    },
    {
     "data": {
      "text/plain": [
       "3×2 Matrix{Float64}:\n",
       " 200.0    0.0\n",
       " 170.0  140.0\n",
       "   0.0  420.0"
      ]
     },
     "execution_count": 20,
     "metadata": {},
     "output_type": "execute_result"
    }
   ],
   "source": [
    "@show value.(s)"
   ]
  },
  {
   "cell_type": "code",
   "execution_count": 21,
   "metadata": {},
   "outputs": [
    {
     "name": "stdout",
     "output_type": "stream",
     "text": [
      "objective_value(model) = 2.1242e7\n"
     ]
    },
    {
     "data": {
      "text/plain": [
       "2.1242e7"
      ]
     },
     "execution_count": 21,
     "metadata": {},
     "output_type": "execute_result"
    }
   ],
   "source": [
    "@show objective_value(model)"
   ]
  },
  {
   "cell_type": "code",
   "execution_count": null,
   "metadata": {},
   "outputs": [],
   "source": []
  },
  {
   "cell_type": "code",
   "execution_count": null,
   "metadata": {},
   "outputs": [],
   "source": []
  }
 ],
 "metadata": {
  "kernelspec": {
   "display_name": "Julia 1.9.3",
   "language": "julia",
   "name": "julia-1.9"
  },
  "language_info": {
   "file_extension": ".jl",
   "mimetype": "application/julia",
   "name": "julia",
   "version": "1.9.3"
  }
 },
 "nbformat": 4,
 "nbformat_minor": 4
}
