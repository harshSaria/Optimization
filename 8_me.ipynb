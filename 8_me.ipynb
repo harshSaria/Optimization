{
 "cells": [
  {
   "cell_type": "code",
   "execution_count": 1,
   "metadata": {},
   "outputs": [],
   "source": [
    "using JuMP\n",
    "using CPLEX"
   ]
  },
  {
   "cell_type": "code",
   "execution_count": 2,
   "metadata": {},
   "outputs": [
    {
     "data": {
      "text/plain": [
       "A JuMP Model\n",
       "Feasibility problem with:\n",
       "Variables: 0\n",
       "Model mode: AUTOMATIC\n",
       "CachingOptimizer state: EMPTY_OPTIMIZER\n",
       "Solver name: CPLEX"
      ]
     },
     "metadata": {},
     "output_type": "display_data"
    }
   ],
   "source": [
    "model = Model(CPLEX.Optimizer)"
   ]
  },
  {
   "cell_type": "code",
   "execution_count": 3,
   "metadata": {},
   "outputs": [
    {
     "data": {
      "text/plain": [
       "4-element Vector{Int64}:\n",
       " 1500\n",
       " 2100\n",
       " 1800\n",
       " 1950"
      ]
     },
     "metadata": {},
     "output_type": "display_data"
    }
   ],
   "source": [
    "demand = [1500, 2100, 1800, 1950]"
   ]
  },
  {
   "cell_type": "code",
   "execution_count": 4,
   "metadata": {},
   "outputs": [
    {
     "data": {
      "text/plain": [
       "1200"
      ]
     },
     "metadata": {},
     "output_type": "display_data"
    }
   ],
   "source": [
    "regular_hrs = 480\n",
    "max_overtime = 80\n",
    "production_rate = 160\n",
    "max_subcontract = 500\n",
    "regular_pay = 50\n",
    "overtime_pay = 55\n",
    "subcontracting_cost = 9000\n",
    "backlog_cost = 1200\n",
    "inventory_holding_cost = 50\n",
    "hiring_cost = 1000\n",
    "firing_cost = 1200"
   ]
  },
  {
   "cell_type": "code",
   "execution_count": 5,
   "metadata": {},
   "outputs": [
    {
     "data": {
      "text/plain": [
       "300"
      ]
     },
     "metadata": {},
     "output_type": "display_data"
    }
   ],
   "source": [
    "num_init_workers = 600\n",
    "inventory_start = 200\n",
    "inventory_end = 300"
   ]
  },
  {
   "cell_type": "code",
   "execution_count": 6,
   "metadata": {},
   "outputs": [
    {
     "data": {
      "text/plain": [
       "4-element Vector{VariableRef}:\n",
       " total_overtime_hrs[1]\n",
       " total_overtime_hrs[2]\n",
       " total_overtime_hrs[3]\n",
       " total_overtime_hrs[4]"
      ]
     },
     "metadata": {},
     "output_type": "display_data"
    }
   ],
   "source": [
    "@variable(model, total_overtime_hrs[1:4], lower_bound = 0)"
   ]
  },
  {
   "cell_type": "code",
   "execution_count": 7,
   "metadata": {},
   "outputs": [
    {
     "data": {
      "text/plain": [
       "4-element Vector{VariableRef}:\n",
       " w[1]\n",
       " w[2]\n",
       " w[3]\n",
       " w[4]"
      ]
     },
     "metadata": {},
     "output_type": "display_data"
    }
   ],
   "source": [
    "@variable(model, w[1:4], lower_bound = 0, Int)"
   ]
  },
  {
   "cell_type": "code",
   "execution_count": 8,
   "metadata": {},
   "outputs": [
    {
     "data": {
      "text/plain": [
       "4-element Vector{VariableRef}:\n",
       " w_h[1]\n",
       " w_h[2]\n",
       " w_h[3]\n",
       " w_h[4]"
      ]
     },
     "metadata": {},
     "output_type": "display_data"
    }
   ],
   "source": [
    "@variable(model, w_h[1:4], lower_bound = 0, Int)"
   ]
  },
  {
   "cell_type": "code",
   "execution_count": 9,
   "metadata": {},
   "outputs": [
    {
     "data": {
      "text/plain": [
       "4-element Vector{VariableRef}:\n",
       " w_f[1]\n",
       " w_f[2]\n",
       " w_f[3]\n",
       " w_f[4]"
      ]
     },
     "metadata": {},
     "output_type": "display_data"
    }
   ],
   "source": [
    "@variable(model, w_f[1:4], lower_bound = 0, Int)"
   ]
  },
  {
   "cell_type": "code",
   "execution_count": 10,
   "metadata": {},
   "outputs": [
    {
     "data": {
      "text/plain": [
       "4-element Vector{VariableRef}:\n",
       " production[1]\n",
       " production[2]\n",
       " production[3]\n",
       " production[4]"
      ]
     },
     "metadata": {},
     "output_type": "display_data"
    }
   ],
   "source": [
    "@variable(model, production[1:4], lower_bound = 0, Int)"
   ]
  },
  {
   "cell_type": "code",
   "execution_count": 11,
   "metadata": {},
   "outputs": [
    {
     "data": {
      "text/plain": [
       "4-element Vector{VariableRef}:\n",
       " subcontract[1]\n",
       " subcontract[2]\n",
       " subcontract[3]\n",
       " subcontract[4]"
      ]
     },
     "metadata": {},
     "output_type": "display_data"
    }
   ],
   "source": [
    "@variable(model, subcontract[1:4], lower_bound = 0, Int)"
   ]
  },
  {
   "cell_type": "code",
   "execution_count": 12,
   "metadata": {},
   "outputs": [
    {
     "data": {
      "text/plain": [
       "4-element Vector{VariableRef}:\n",
       " inventory[1]\n",
       " inventory[2]\n",
       " inventory[3]\n",
       " inventory[4]"
      ]
     },
     "metadata": {},
     "output_type": "display_data"
    }
   ],
   "source": [
    "@variable(model, inventory[1:4], lower_bound = 0, Int)"
   ]
  },
  {
   "cell_type": "code",
   "execution_count": 13,
   "metadata": {},
   "outputs": [
    {
     "data": {
      "text/plain": [
       "4-element Vector{VariableRef}:\n",
       " backlog[1]\n",
       " backlog[2]\n",
       " backlog[3]\n",
       " backlog[4]"
      ]
     },
     "metadata": {},
     "output_type": "display_data"
    }
   ],
   "source": [
    "@variable(model, backlog[1:4], lower_bound = 0, Int)"
   ]
  },
  {
   "cell_type": "code",
   "execution_count": 14,
   "metadata": {},
   "outputs": [
    {
     "data": {
      "text/latex": [
       "$$ w_{1} - w\\_h_{1} - w\\_f_{1} = 600 $$"
      ],
      "text/plain": [
       "w[1] - w_h[1] - w_f[1] == 600"
      ]
     },
     "metadata": {},
     "output_type": "display_data"
    }
   ],
   "source": [
    "@constraint(model, w[1]== num_init_workers + w_h[1] - w_f[1])"
   ]
  },
  {
   "cell_type": "code",
   "execution_count": 15,
   "metadata": {},
   "outputs": [
    {
     "data": {
      "text/latex": [
       "$$ production_{1} + subcontract_{1} - inventory_{1} - backlog_{1} = 1300 $$"
      ],
      "text/plain": [
       "production[1] + subcontract[1] - inventory[1] - backlog[1] == 1300"
      ]
     },
     "metadata": {},
     "output_type": "display_data"
    }
   ],
   "source": [
    "@constraint(model, production[1] + inventory_start + subcontract[1] == demand[1] + inventory[1] + backlog[1])"
   ]
  },
  {
   "cell_type": "code",
   "execution_count": 16,
   "metadata": {},
   "outputs": [
    {
     "data": {
      "text/latex": [
       "$$ [-w_{1} + w_{2} - w\\_h_{2} - w\\_f_{2}, -w_{2} + w_{3} - w\\_h_{3} - w\\_f_{3}, -w_{3} + w_{4} - w\\_h_{4} - w\\_f_{4}] \\in \\text{MathOptInterface.Zeros(3)} $$"
      ],
      "text/plain": [
       "[-w[1] + w[2] - w_h[2] - w_f[2], -w[2] + w[3] - w_h[3] - w_f[3], -w[3] + w[4] - w_h[4] - w_f[4]] in MathOptInterface.Zeros(3)"
      ]
     },
     "metadata": {},
     "output_type": "display_data"
    }
   ],
   "source": [
    "@constraint(model, w[2:4]== w[1:3] + w_h[2:4] - w_f[2:4])"
   ]
  },
  {
   "cell_type": "code",
   "execution_count": 17,
   "metadata": {},
   "outputs": [
    {
     "data": {
      "text/latex": [
       "$$ [production_{2} + subcontract_{2} + inventory_{1} - inventory_{2} - backlog_{1} - backlog_{2} - 2100, production_{3} + subcontract_{3} + inventory_{2} - inventory_{3} - backlog_{2} - backlog_{3} - 1800, production_{4} + subcontract_{4} + inventory_{3} - inventory_{4} - backlog_{3} - backlog_{4} - 1950] \\in \\text{MathOptInterface.Zeros(3)} $$"
      ],
      "text/plain": [
       "[production[2] + subcontract[2] + inventory[1] - inventory[2] - backlog[1] - backlog[2] - 2100, production[3] + subcontract[3] + inventory[2] - inventory[3] - backlog[2] - backlog[3] - 1800, production[4] + subcontract[4] + inventory[3] - inventory[4] - backlog[3] - backlog[4] - 1950] in MathOptInterface.Zeros(3)"
      ]
     },
     "metadata": {},
     "output_type": "display_data"
    }
   ],
   "source": [
    "@constraint(model,production[2:4] + inventory[1:3] + subcontract[2:4] == demand[2:4] + inventory[2:4] + backlog[1:3] + backlog[2:4])"
   ]
  },
  {
   "cell_type": "code",
   "execution_count": 18,
   "metadata": {},
   "outputs": [
    {
     "data": {
      "text/latex": [
       "$$ [production_{2} + subcontract_{2} + inventory_{1} - inventory_{2} - backlog_{1} - backlog_{2} - 2100, production_{3} + subcontract_{3} + inventory_{2} - inventory_{3} - backlog_{2} - backlog_{3} - 1800, production_{4} + subcontract_{4} + inventory_{3} - inventory_{4} - backlog_{3} - backlog_{4} - 1950] \\in \\text{MathOptInterface.Zeros(3)} $$"
      ],
      "text/plain": [
       "[production[2] + subcontract[2] + inventory[1] - inventory[2] - backlog[1] - backlog[2] - 2100, production[3] + subcontract[3] + inventory[2] - inventory[3] - backlog[2] - backlog[3] - 1800, production[4] + subcontract[4] + inventory[3] - inventory[4] - backlog[3] - backlog[4] - 1950] in MathOptInterface.Zeros(3)"
      ]
     },
     "metadata": {},
     "output_type": "display_data"
    }
   ],
   "source": [
    "@constraint(model,production[2:4] + inventory[1:3] + subcontract[2:4] == demand[2:4] + inventory[2:4] + backlog[1:3] + backlog[2:4])"
   ]
  },
  {
   "cell_type": "code",
   "execution_count": 19,
   "metadata": {},
   "outputs": [
    {
     "data": {
      "text/latex": [
       "$$ [total\\_overtime\\_hrs_{1} - 80 w_{1}, total\\_overtime\\_hrs_{2} - 80 w_{2}, total\\_overtime\\_hrs_{3} - 80 w_{3}, total\\_overtime\\_hrs_{4} - 80 w_{4}] \\in \\text{MathOptInterface.Nonpositives(4)} $$"
      ],
      "text/plain": [
       "[total_overtime_hrs[1] - 80 w[1], total_overtime_hrs[2] - 80 w[2], total_overtime_hrs[3] - 80 w[3], total_overtime_hrs[4] - 80 w[4]] in MathOptInterface.Nonpositives(4)"
      ]
     },
     "metadata": {},
     "output_type": "display_data"
    }
   ],
   "source": [
    "@constraint(model, total_overtime_hrs <= max_overtime * w[1:4])"
   ]
  },
  {
   "cell_type": "code",
   "execution_count": 20,
   "metadata": {},
   "outputs": [
    {
     "data": {
      "text/latex": [
       "$$ [-0.00625 total\\_overtime\\_hrs_{1} - 3 w_{1} + production_{1}, -0.00625 total\\_overtime\\_hrs_{2} - 3 w_{2} + production_{2}, -0.00625 total\\_overtime\\_hrs_{3} - 3 w_{3} + production_{3}, -0.00625 total\\_overtime\\_hrs_{4} - 3 w_{4} + production_{4}] \\in \\text{MathOptInterface.Nonpositives(4)} $$"
      ],
      "text/plain": [
       "[-0.00625 total_overtime_hrs[1] - 3 w[1] + production[1], -0.00625 total_overtime_hrs[2] - 3 w[2] + production[2], -0.00625 total_overtime_hrs[3] - 3 w[3] + production[3], -0.00625 total_overtime_hrs[4] - 3 w[4] + production[4]] in MathOptInterface.Nonpositives(4)"
      ]
     },
     "metadata": {},
     "output_type": "display_data"
    }
   ],
   "source": [
    "@constraint(model, production <= w[1:4] * regular_hrs / production_rate + total_overtime_hrs / production_rate)"
   ]
  },
  {
   "cell_type": "code",
   "execution_count": 21,
   "metadata": {},
   "outputs": [
    {
     "data": {
      "text/plain": [
       "4-element Vector{ConstraintRef{Model, MathOptInterface.ConstraintIndex{MathOptInterface.ScalarAffineFunction{Float64}, MathOptInterface.LessThan{Float64}}, ScalarShape}}:\n",
       " subcontract[1] <= 500\n",
       " subcontract[2] <= 500\n",
       " subcontract[3] <= 500\n",
       " subcontract[4] <= 500"
      ]
     },
     "metadata": {},
     "output_type": "display_data"
    }
   ],
   "source": [
    "@constraint(model, subcontract[1:4] .<= max_subcontract)"
   ]
  },
  {
   "cell_type": "code",
   "execution_count": 22,
   "metadata": {},
   "outputs": [
    {
     "data": {
      "text/latex": [
       "$$ inventory_{4} = 300 $$"
      ],
      "text/plain": [
       "inventory[4] == 300"
      ]
     },
     "metadata": {},
     "output_type": "display_data"
    }
   ],
   "source": [
    "\n",
    "@constraint(model, inventory[4] == inventory_end)"
   ]
  },
  {
   "cell_type": "code",
   "execution_count": 23,
   "metadata": {},
   "outputs": [
    {
     "data": {
      "text/latex": [
       "$$ 24000 w_{1} + 24000 w_{2} + 24000 w_{3} + 24000 w_{4} + 1000 w\\_h_{1} + 1000 w\\_h_{2} + 1000 w\\_h_{3} + 1000 w\\_h_{4} + 1200 w\\_f_{1} + 1200 w\\_f_{2} + 1200 w\\_f_{3} + 1200 w\\_f_{4} + 50 inventory_{1} + 50 inventory_{2} + 50 inventory_{3} + 50 inventory_{4} + 1200 backlog_{1} + 1200 backlog_{2} + 1200 backlog_{3} + 1200 backlog_{4} + 9000 subcontract_{1} + 9000 subcontract_{2} + 9000 subcontract_{3} + 9000 subcontract_{4} + 55 total\\_overtime\\_hrs_{1} + 55 total\\_overtime\\_hrs_{2} + 55 total\\_overtime\\_hrs_{3} + 55 total\\_overtime\\_hrs_{4} $$"
      ],
      "text/plain": [
       "24000 w[1] + 24000 w[2] + 24000 w[3] + 24000 w[4] + 1000 w_h[1] + 1000 w_h[2] + 1000 w_h[3] + 1000 w_h[4] + 1200 w_f[1] + 1200 w_f[2] + 1200 w_f[3] + 1200 w_f[4] + 50 inventory[1] + 50 inventory[2] + 50 inventory[3] + 50 inventory[4] + 1200 backlog[1] + 1200 backlog[2] + 1200 backlog[3] + 1200 backlog[4] + 9000 subcontract[1] + 9000 subcontract[2] + 9000 subcontract[3] + 9000 subcontract[4] + 55 total_overtime_hrs[1] + 55 total_overtime_hrs[2] + 55 total_overtime_hrs[3] + 55 total_overtime_hrs[4]"
      ]
     },
     "metadata": {},
     "output_type": "display_data"
    }
   ],
   "source": [
    "total_cost = sum(w .* regular_hrs .* regular_pay) + sum(hiring_cost .* w_h) + sum(firing_cost .* w_f) + sum(inventory_holding_cost .* inventory) + sum(backlog_cost .* backlog) + sum(subcontracting_cost .* subcontract) + sum(overtime_pay .* total_overtime_hrs)"
   ]
  },
  {
   "cell_type": "code",
   "execution_count": 24,
   "metadata": {},
   "outputs": [
    {
     "data": {
      "text/latex": [
       "$$ 24000 w_{1} + 24000 w_{2} + 24000 w_{3} + 24000 w_{4} + 1000 w\\_h_{1} + 1000 w\\_h_{2} + 1000 w\\_h_{3} + 1000 w\\_h_{4} + 1200 w\\_f_{1} + 1200 w\\_f_{2} + 1200 w\\_f_{3} + 1200 w\\_f_{4} + 50 inventory_{1} + 50 inventory_{2} + 50 inventory_{3} + 50 inventory_{4} + 1200 backlog_{1} + 1200 backlog_{2} + 1200 backlog_{3} + 1200 backlog_{4} + 9000 subcontract_{1} + 9000 subcontract_{2} + 9000 subcontract_{3} + 9000 subcontract_{4} + 55 total\\_overtime\\_hrs_{1} + 55 total\\_overtime\\_hrs_{2} + 55 total\\_overtime\\_hrs_{3} + 55 total\\_overtime\\_hrs_{4} $$"
      ],
      "text/plain": [
       "24000 w[1] + 24000 w[2] + 24000 w[3] + 24000 w[4] + 1000 w_h[1] + 1000 w_h[2] + 1000 w_h[3] + 1000 w_h[4] + 1200 w_f[1] + 1200 w_f[2] + 1200 w_f[3] + 1200 w_f[4] + 50 inventory[1] + 50 inventory[2] + 50 inventory[3] + 50 inventory[4] + 1200 backlog[1] + 1200 backlog[2] + 1200 backlog[3] + 1200 backlog[4] + 9000 subcontract[1] + 9000 subcontract[2] + 9000 subcontract[3] + 9000 subcontract[4] + 55 total_overtime_hrs[1] + 55 total_overtime_hrs[2] + 55 total_overtime_hrs[3] + 55 total_overtime_hrs[4]"
      ]
     },
     "metadata": {},
     "output_type": "display_data"
    }
   ],
   "source": [
    "@objective(model, Min, total_cost)"
   ]
  },
  {
   "cell_type": "code",
   "execution_count": 25,
   "metadata": {},
   "outputs": [
    {
     "name": "stdout",
     "output_type": "stream",
     "text": [
      "Version identifier: 22.1.1.0 | 2022-11-26 | 9160aff4d\r\n",
      "Tried aggregator 2 times.\r\n",
      "MIP Presolve eliminated 8 rows and 5 columns.\r\n",
      "MIP Presolve added 1 rows and 1 columns.\r\n",
      "Aggregator did 2 substitutions.\r\n",
      "Reduced MIP has 15 rows, 26 columns, and 51 nonzeros.\r\n",
      "Reduced MIP has 0 binaries, 22 generals, 0 SOSs, and 0 indicators.\r\n",
      "Presolve time = 0.00 sec. (0.04 ticks)\r\n",
      "Found incumbent of value 7.3939200e+07 after 0.02 sec. (0.10 ticks)\r\n",
      "Tried aggregator 1 time.\r\n",
      "Detecting symmetries...\r\n",
      "MIP Presolve eliminated 1 rows and 1 columns.\r\n",
      "MIP Presolve added 1 rows and 1 columns.\r\n",
      "Reduced MIP has 15 rows, 26 columns, and 51 nonzeros.\r\n",
      "Reduced MIP has 0 binaries, 22 generals, 0 SOSs, and 0 indicators.\r\n",
      "Presolve time = 0.00 sec. (0.03 ticks)\r\n",
      "MIP emphasis: balance optimality and feasibility.\r\n",
      "MIP search method: dynamic search.\r\n",
      "Parallel mode: deterministic, using up to 8 threads.\r\n",
      "Root relaxation solution time = 0.00 sec. (0.04 ticks)\r\n",
      "\r\n",
      "        Nodes                                         Cuts/\r\n",
      "   Node  Left     Objective  IInf  Best Integer    Best Bound    ItCnt     Gap\r\n",
      "\r\n",
      "*     0+    0                       7.39392e+07   5.76150e+07            22.08%\r\n",
      "*     0+    0                       6.85378e+07   5.76150e+07            15.94%\r\n",
      "      0     0   5.96996e+07     9   6.85378e+07   5.96996e+07        6   12.90%\r\n",
      "*     0+    0                       5.97005e+07   5.96996e+07             0.00%\r\n"
     ]
    }
   ],
   "source": [
    "optimize!(model)"
   ]
  },
  {
   "cell_type": "code",
   "execution_count": 26,
   "metadata": {},
   "outputs": [
    {
     "name": "stdout",
     "output_type": "stream",
     "text": [
      "value.(w) = [620.0, 621.0, 621.0, 621.0]\n"
     ]
    },
    {
     "data": {
      "text/plain": [
       "4-element Vector{Float64}:\n",
       " 620.0\n",
       " 621.0\n",
       " 621.0\n",
       " 621.0"
      ]
     },
     "metadata": {},
     "output_type": "display_data"
    }
   ],
   "source": [
    "@show value.(w)"
   ]
  },
  {
   "cell_type": "code",
   "execution_count": 27,
   "metadata": {},
   "outputs": [
    {
     "name": "stdout",
     "output_type": "stream",
     "text": [
      "value.(inventory) = [560.0, 323.0, 387.0, 300.0]\n"
     ]
    },
    {
     "data": {
      "text/plain": [
       "4-element Vector{Float64}:\n",
       " 560.0\n",
       " 323.0\n",
       " 387.0\n",
       " 300.0"
      ]
     },
     "metadata": {},
     "output_type": "display_data"
    }
   ],
   "source": [
    "@show value.(inventory)"
   ]
  },
  {
   "cell_type": "code",
   "execution_count": 28,
   "metadata": {},
   "outputs": [
    {
     "name": "stdout",
     "output_type": "stream",
     "text": [
      "value.(backlog) = [0.0, 0.0, 0.0, 0.0]\n"
     ]
    },
    {
     "data": {
      "text/plain": [
       "4-element Vector{Float64}:\n",
       " 0.0\n",
       " 0.0\n",
       " 0.0\n",
       " 0.0"
      ]
     },
     "metadata": {},
     "output_type": "display_data"
    }
   ],
   "source": [
    "@show value.(backlog)"
   ]
  },
  {
   "cell_type": "code",
   "execution_count": 29,
   "metadata": {},
   "outputs": [
    {
     "name": "stdout",
     "output_type": "stream",
     "text": [
      "value.(w_h) = [20.0, 1.0, 0.0, 0.0]\n"
     ]
    },
    {
     "data": {
      "text/plain": [
       "4-element Vector{Float64}:\n",
       " 20.0\n",
       "  1.0\n",
       "  0.0\n",
       "  0.0"
      ]
     },
     "metadata": {},
     "output_type": "display_data"
    }
   ],
   "source": [
    "@show value.(w_h)"
   ]
  },
  {
   "cell_type": "code",
   "execution_count": 30,
   "metadata": {},
   "outputs": [
    {
     "name": "stdout",
     "output_type": "stream",
     "text": [
      "value.(w_f) = [0.0, 0.0, 0.0, 0.0]\n"
     ]
    },
    {
     "data": {
      "text/plain": [
       "4-element Vector{Float64}:\n",
       " 0.0\n",
       " 0.0\n",
       " 0.0\n",
       " 0.0"
      ]
     },
     "metadata": {},
     "output_type": "display_data"
    }
   ],
   "source": [
    "@show value.(w_f)"
   ]
  },
  {
   "cell_type": "code",
   "execution_count": 31,
   "metadata": {},
   "outputs": [
    {
     "name": "stdout",
     "output_type": "stream",
     "text": [
      "value.(subcontract) = [0.0, 0.0, 1.0, 0.0]\n"
     ]
    },
    {
     "data": {
      "text/plain": [
       "4-element Vector{Float64}:\n",
       " 0.0\n",
       " 0.0\n",
       " 1.0\n",
       " 0.0"
      ]
     },
     "metadata": {},
     "output_type": "display_data"
    }
   ],
   "source": [
    "@show value.(subcontract)"
   ]
  },
  {
   "cell_type": "code",
   "execution_count": 32,
   "metadata": {},
   "outputs": [
    {
     "name": "stdout",
     "output_type": "stream",
     "text": [
      "value.(production) = [1860.0, 1863.0, 1863.0, 1863.0]\n"
     ]
    },
    {
     "data": {
      "text/plain": [
       "4-element Vector{Float64}:\n",
       " 1860.0\n",
       " 1863.0\n",
       " 1863.0\n",
       " 1863.0"
      ]
     },
     "metadata": {},
     "output_type": "display_data"
    }
   ],
   "source": [
    "@show value.(production)"
   ]
  },
  {
   "cell_type": "code",
   "execution_count": 33,
   "metadata": {},
   "outputs": [
    {
     "name": "stdout",
     "output_type": "stream",
     "text": [
      "value.(total_overtime_hrs) = [0.0, 0.0, 0.0, 0.0]\n"
     ]
    },
    {
     "data": {
      "text/plain": [
       "4-element Vector{Float64}:\n",
       " 0.0\n",
       " 0.0\n",
       " 0.0\n",
       " 0.0"
      ]
     },
     "metadata": {},
     "output_type": "display_data"
    }
   ],
   "source": [
    "@show value.(total_overtime_hrs)"
   ]
  },
  {
   "cell_type": "code",
   "execution_count": 34,
   "metadata": {},
   "outputs": [
    {
     "name": "stdout",
     "output_type": "stream",
     "text": [
      "objective_value(model) = 5.97005e7\n"
     ]
    },
    {
     "data": {
      "text/plain": [
       "5.97005e7"
      ]
     },
     "metadata": {},
     "output_type": "display_data"
    }
   ],
   "source": [
    "@show objective_value(model)"
   ]
  },
  {
   "cell_type": "code",
   "execution_count": null,
   "metadata": {},
   "outputs": [],
   "source": []
  }
 ],
 "metadata": {
  "kernelspec": {
   "display_name": "Julia 1.9.3",
   "language": "julia",
   "name": "julia-1.9"
  },
  "language_info": {
   "file_extension": ".jl",
   "mimetype": "application/julia",
   "name": "julia",
   "version": "1.9.3"
  }
 },
 "nbformat": 4,
 "nbformat_minor": 4
}
