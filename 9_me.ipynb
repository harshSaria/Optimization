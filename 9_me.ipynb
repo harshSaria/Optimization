{
 "cells": [
  {
   "cell_type": "code",
   "execution_count": 87,
   "metadata": {},
   "outputs": [],
   "source": [
    "using JuMP\n",
    "using CPLEX"
   ]
  },
  {
   "cell_type": "code",
   "execution_count": 88,
   "metadata": {},
   "outputs": [
    {
     "data": {
      "text/plain": [
       "4×3 Matrix{Int64}:\n",
       " 14   5  200\n",
       " 31  10  350\n",
       " 36  15  400\n",
       " 45   5  500"
      ]
     },
     "metadata": {},
     "output_type": "display_data"
    }
   ],
   "source": [
    "order_details = [14 5 200; 31 10 350; 36 15 400; 45 5 500]"
   ]
  },
  {
   "cell_type": "code",
   "execution_count": 89,
   "metadata": {},
   "outputs": [
    {
     "data": {
      "text/plain": [
       "5"
      ]
     },
     "metadata": {},
     "output_type": "display_data"
    }
   ],
   "source": [
    "scrap_price = 5"
   ]
  },
  {
   "cell_type": "code",
   "execution_count": 90,
   "metadata": {},
   "outputs": [
    {
     "data": {
      "text/plain": [
       "700"
      ]
     },
     "metadata": {},
     "output_type": "display_data"
    }
   ],
   "source": [
    "manufacturing_cost = 700"
   ]
  },
  {
   "cell_type": "code",
   "execution_count": 91,
   "metadata": {},
   "outputs": [
    {
     "data": {
      "text/plain": [
       "A JuMP Model\n",
       "Feasibility problem with:\n",
       "Variables: 0\n",
       "Model mode: AUTOMATIC\n",
       "CachingOptimizer state: EMPTY_OPTIMIZER\n",
       "Solver name: CPLEX"
      ]
     },
     "metadata": {},
     "output_type": "display_data"
    }
   ],
   "source": [
    "model = Model(CPLEX.Optimizer)"
   ]
  },
  {
   "cell_type": "code",
   "execution_count": 92,
   "metadata": {},
   "outputs": [
    {
     "data": {
      "text/plain": [
       "4×10 Matrix{VariableRef}:\n",
       " x[1,1]  x[1,2]  x[1,3]  x[1,4]  x[1,5]  …  x[1,7]  x[1,8]  x[1,9]  x[1,10]\n",
       " x[2,1]  x[2,2]  x[2,3]  x[2,4]  x[2,5]     x[2,7]  x[2,8]  x[2,9]  x[2,10]\n",
       " x[3,1]  x[3,2]  x[3,3]  x[3,4]  x[3,5]     x[3,7]  x[3,8]  x[3,9]  x[3,10]\n",
       " x[4,1]  x[4,2]  x[4,3]  x[4,4]  x[4,5]     x[4,7]  x[4,8]  x[4,9]  x[4,10]"
      ]
     },
     "metadata": {},
     "output_type": "display_data"
    }
   ],
   "source": [
    "@variable(model, x[i=1:4, j =1:10], lower_bound = 0, Int) # quantity of ith order cut from jth roll"
   ]
  },
  {
   "cell_type": "code",
   "execution_count": 93,
   "metadata": {},
   "outputs": [
    {
     "data": {
      "text/latex": [
       "$$ [x_{1,1} + x_{1,2} + x_{1,3} + x_{1,4} + x_{1,5} + x_{1,6} + x_{1,7} + x_{1,8} + x_{1,9} + x_{1,10} - 5, x_{2,1} + x_{2,2} + x_{2,3} + x_{2,4} + x_{2,5} + x_{2,6} + x_{2,7} + x_{2,8} + x_{2,9} + x_{2,10} - 10, x_{3,1} + x_{3,2} + x_{3,3} + x_{3,4} + x_{3,5} + x_{3,6} + x_{3,7} + x_{3,8} + x_{3,9} + x_{3,10} - 15, x_{4,1} + x_{4,2} + x_{4,3} + x_{4,4} + x_{4,5} + x_{4,6} + x_{4,7} + x_{4,8} + x_{4,9} + x_{4,10} - 5] \\in \\text{MathOptInterface.Nonpositives(4)} $$"
      ],
      "text/plain": [
       "[x[1,1] + x[1,2] + x[1,3] + x[1,4] + x[1,5] + x[1,6] + x[1,7] + x[1,8] + x[1,9] + x[1,10] - 5, x[2,1] + x[2,2] + x[2,3] + x[2,4] + x[2,5] + x[2,6] + x[2,7] + x[2,8] + x[2,9] + x[2,10] - 10, x[3,1] + x[3,2] + x[3,3] + x[3,4] + x[3,5] + x[3,6] + x[3,7] + x[3,8] + x[3,9] + x[3,10] - 15, x[4,1] + x[4,2] + x[4,3] + x[4,4] + x[4,5] + x[4,6] + x[4,7] + x[4,8] + x[4,9] + x[4,10] - 5] in MathOptInterface.Nonpositives(4)"
      ]
     },
     "metadata": {},
     "output_type": "display_data"
    }
   ],
   "source": [
    "@constraint(model, sum(x[:, j] for j in 1:10) <= order_details[:, 2]) # order quantity constraint"
   ]
  },
  {
   "cell_type": "code",
   "execution_count": 94,
   "metadata": {},
   "outputs": [
    {
     "data": {
      "text/plain": [
       "10-element Vector{ConstraintRef{Model, MathOptInterface.ConstraintIndex{MathOptInterface.ScalarAffineFunction{Float64}, MathOptInterface.LessThan{Float64}}, ScalarShape}}:\n",
       " 14 x[1,1] + 31 x[2,1] + 36 x[3,1] + 45 x[4,1] <= 100\n",
       " 14 x[1,2] + 31 x[2,2] + 36 x[3,2] + 45 x[4,2] <= 100\n",
       " 14 x[1,3] + 31 x[2,3] + 36 x[3,3] + 45 x[4,3] <= 100\n",
       " 14 x[1,4] + 31 x[2,4] + 36 x[3,4] + 45 x[4,4] <= 100\n",
       " 14 x[1,5] + 31 x[2,5] + 36 x[3,5] + 45 x[4,5] <= 100\n",
       " 14 x[1,6] + 31 x[2,6] + 36 x[3,6] + 45 x[4,6] <= 100\n",
       " 14 x[1,7] + 31 x[2,7] + 36 x[3,7] + 45 x[4,7] <= 100\n",
       " 14 x[1,8] + 31 x[2,8] + 36 x[3,8] + 45 x[4,8] <= 100\n",
       " 14 x[1,9] + 31 x[2,9] + 36 x[3,9] + 45 x[4,9] <= 100\n",
       " 14 x[1,10] + 31 x[2,10] + 36 x[3,10] + 45 x[4,10] <= 100"
      ]
     },
     "metadata": {},
     "output_type": "display_data"
    }
   ],
   "source": [
    "@constraint(model, sum((x .*order_details[:, 1])[i,:] for i in 1:4) .<= 100) # one roll is of 100 inch constraint"
   ]
  },
  {
   "cell_type": "code",
   "execution_count": 95,
   "metadata": {},
   "outputs": [
    {
     "data": {
      "text/plain": [
       "10-element Vector{AffExpr}:\n",
       " -14 x[1,1] - 31 x[2,1] - 36 x[3,1] - 45 x[4,1] + 100\n",
       " -14 x[1,2] - 31 x[2,2] - 36 x[3,2] - 45 x[4,2] + 100\n",
       " -14 x[1,3] - 31 x[2,3] - 36 x[3,3] - 45 x[4,3] + 100\n",
       " -14 x[1,4] - 31 x[2,4] - 36 x[3,4] - 45 x[4,4] + 100\n",
       " -14 x[1,5] - 31 x[2,5] - 36 x[3,5] - 45 x[4,5] + 100\n",
       " -14 x[1,6] - 31 x[2,6] - 36 x[3,6] - 45 x[4,6] + 100\n",
       " -14 x[1,7] - 31 x[2,7] - 36 x[3,7] - 45 x[4,7] + 100\n",
       " -14 x[1,8] - 31 x[2,8] - 36 x[3,8] - 45 x[4,8] + 100\n",
       " -14 x[1,9] - 31 x[2,9] - 36 x[3,9] - 45 x[4,9] + 100\n",
       " -14 x[1,10] - 31 x[2,10] - 36 x[3,10] - 45 x[4,10] + 100"
      ]
     },
     "metadata": {},
     "output_type": "display_data"
    }
   ],
   "source": [
    "scrap = 100 .- sum((x .*order_details[:, 1])[i,:] for i in 1:4) # amount of scrap calculation"
   ]
  },
  {
   "cell_type": "code",
   "execution_count": 96,
   "metadata": {},
   "outputs": [
    {
     "data": {
      "text/latex": [
       "$$ 130 x_{1,1} + 195 x_{2,1} + 220 x_{3,1} + 275 x_{4,1} + 130 x_{1,2} + 195 x_{2,2} + 220 x_{3,2} + 275 x_{4,2} + 130 x_{1,3} + 195 x_{2,3} + 220 x_{3,3} + 275 x_{4,3} + 130 x_{1,4} + 195 x_{2,4} + 220 x_{3,4} + 275 x_{4,4} + 130 x_{1,5} + 195 x_{2,5} + 220 x_{3,5} + 275 x_{4,5} + 130 x_{1,6} + 195 x_{2,6} + 220 x_{3,6} + 275 x_{4,6} + 130 x_{1,7} + 195 x_{2,7} + 220 x_{3,7} + 275 x_{4,7} + 130 x_{1,8} + 195 x_{2,8} + 220 x_{3,8} + 275 x_{4,8} + 130 x_{1,9} + 195 x_{2,9} + 220 x_{3,9} + 275 x_{4,9} + 130 x_{1,10} + 195 x_{2,10} + 220 x_{3,10} + 275 x_{4,10} - 2000 $$"
      ],
      "text/plain": [
       "130 x[1,1] + 195 x[2,1] + 220 x[3,1] + 275 x[4,1] + 130 x[1,2] + 195 x[2,2] + 220 x[3,2] + 275 x[4,2] + 130 x[1,3] + 195 x[2,3] + 220 x[3,3] + 275 x[4,3] + 130 x[1,4] + 195 x[2,4] + 220 x[3,4] + 275 x[4,4] + 130 x[1,5] + 195 x[2,5] + 220 x[3,5] + 275 x[4,5] + 130 x[1,6] + 195 x[2,6] + 220 x[3,6] + 275 x[4,6] + 130 x[1,7] + 195 x[2,7] + 220 x[3,7] + 275 x[4,7] + 130 x[1,8] + 195 x[2,8] + 220 x[3,8] + 275 x[4,8] + 130 x[1,9] + 195 x[2,9] + 220 x[3,9] + 275 x[4,9] + 130 x[1,10] + 195 x[2,10] + 220 x[3,10] + 275 x[4,10] - 2000"
      ]
     },
     "metadata": {},
     "output_type": "display_data"
    }
   ],
   "source": [
    "profit = sum(sum((x .* order_details[:, 3])[i,:] for i in 1:4)) + sum(scrap * scrap_price) - manufacturing_cost*10 # profit"
   ]
  },
  {
   "cell_type": "code",
   "execution_count": 97,
   "metadata": {},
   "outputs": [
    {
     "data": {
      "text/latex": [
       "$$ 130 x_{1,1} + 195 x_{2,1} + 220 x_{3,1} + 275 x_{4,1} + 130 x_{1,2} + 195 x_{2,2} + 220 x_{3,2} + 275 x_{4,2} + 130 x_{1,3} + 195 x_{2,3} + 220 x_{3,3} + 275 x_{4,3} + 130 x_{1,4} + 195 x_{2,4} + 220 x_{3,4} + 275 x_{4,4} + 130 x_{1,5} + 195 x_{2,5} + 220 x_{3,5} + 275 x_{4,5} + 130 x_{1,6} + 195 x_{2,6} + 220 x_{3,6} + 275 x_{4,6} + 130 x_{1,7} + 195 x_{2,7} + 220 x_{3,7} + 275 x_{4,7} + 130 x_{1,8} + 195 x_{2,8} + 220 x_{3,8} + 275 x_{4,8} + 130 x_{1,9} + 195 x_{2,9} + 220 x_{3,9} + 275 x_{4,9} + 130 x_{1,10} + 195 x_{2,10} + 220 x_{3,10} + 275 x_{4,10} - 2000 $$"
      ],
      "text/plain": [
       "130 x[1,1] + 195 x[2,1] + 220 x[3,1] + 275 x[4,1] + 130 x[1,2] + 195 x[2,2] + 220 x[3,2] + 275 x[4,2] + 130 x[1,3] + 195 x[2,3] + 220 x[3,3] + 275 x[4,3] + 130 x[1,4] + 195 x[2,4] + 220 x[3,4] + 275 x[4,4] + 130 x[1,5] + 195 x[2,5] + 220 x[3,5] + 275 x[4,5] + 130 x[1,6] + 195 x[2,6] + 220 x[3,6] + 275 x[4,6] + 130 x[1,7] + 195 x[2,7] + 220 x[3,7] + 275 x[4,7] + 130 x[1,8] + 195 x[2,8] + 220 x[3,8] + 275 x[4,8] + 130 x[1,9] + 195 x[2,9] + 220 x[3,9] + 275 x[4,9] + 130 x[1,10] + 195 x[2,10] + 220 x[3,10] + 275 x[4,10] - 2000"
      ]
     },
     "metadata": {},
     "output_type": "display_data"
    }
   ],
   "source": [
    "@objective(model, Max, profit)"
   ]
  },
  {
   "cell_type": "code",
   "execution_count": 98,
   "metadata": {},
   "outputs": [
    {
     "name": "stdout",
     "output_type": "stream",
     "text": [
      "\r\n",
      "Mixed integer rounding cuts applied:  41\r\n",
      "Zero-half cuts applied:  2\r\n",
      "\r\n",
      "Root node processing (before b&c):\r\n",
      "  Real time             =    0.00 sec. (0.01 ticks)\r\n",
      "Parallel b&c, 8 threads:\r\n",
      "  Real time             =    9.36 sec. (2016.17 ticks)\r\n",
      "  Sync time (average)   =    1.29 sec.\r\n",
      "  Wait time (average)   =    0.00 sec.\r\n",
      "                          ------------\r\n",
      "Total (root+branch&cut) =    9.36 sec. (2016.17 ticks)\r\n",
      "Version identifier: 22.1.1.0 | 2022-11-26 | 9160aff4d\r\n",
      "Found incumbent of value -2000.000000 after 0.00 sec. (0.00 ticks)\r\n",
      "Tried aggregator 1 time.\r\n",
      "Reduced MIP has 14 rows, 40 columns, and 80 nonzeros.\r\n",
      "Reduced MIP has 0 binaries, 40 generals, 0 SOSs, and 0 indicators.\r\n",
      "Presolve time = 0.00 sec. (0.04 ticks)\r\n",
      "Tried aggregator 1 time.\r\n",
      "Detecting symmetries...\r\n",
      "Reduced MIP has 14 rows, 40 columns, and 80 nonzeros.\r\n",
      "Reduced MIP has 0 binaries, 40 generals, 0 SOSs, and 0 indicators.\r\n",
      "Presolve time = 0.00 sec. (0.07 ticks)\r\n",
      "MIP emphasis: balance optimality and feasibility.\r\n",
      "MIP search method: dynamic search.\r\n",
      "Parallel mode: deterministic, using up to 8 threads.\r\n",
      "Root relaxation solution time = 0.00 sec. (0.06 ticks)\r\n",
      "\r\n",
      "        Nodes                                         Cuts/\r\n",
      "   Node  Left     Objective  IInf  Best Integer    Best Bound    ItCnt     Gap\r\n",
      "\r\n",
      "*     0+    0                        -2000.0000    20250.0000              --- \r\n",
      "*     0+    0                         4175.0000    20250.0000           385.03%\r\n",
      "      0     0     4388.8889    10     4175.0000     4388.8889       28    5.12%\r\n",
      "      0     0     4388.8889    18     4175.0000      Cuts: 13       52    5.12%\r\n",
      "      0     0     4388.8889    19     4175.0000      Cuts: 16       79    5.12%\r\n",
      "      0     2     4388.8889    19     4175.0000     4388.8889       79    5.12%\r\n",
      "Elapsed time = 0.06 sec. (1.11 ticks, tree = 0.02 MB, solutions = 2)\r\n"
     ]
    }
   ],
   "source": [
    "optimize!(model)"
   ]
  },
  {
   "cell_type": "code",
   "execution_count": 99,
   "metadata": {},
   "outputs": [
    {
     "name": "stdout",
     "output_type": "stream",
     "text": [
      "value.(x) = [1.0 0.0 2.0 0.0 2.0 0.0 0.0 0.0 0.0 0.0; 0.0 2.0 0.0 2.0 0.0 2.0 0.0 2.0 0.0 2.0; 1.0 1.0 2.0 1.0 2.0 1.0 0.0 1.0 0.0 1.0; 1.0 0.0 0.0 0.0 0.0 0.0 2.0 0.0 2.0 0.0]\n"
     ]
    },
    {
     "data": {
      "text/plain": [
       "4×10 Matrix{Float64}:\n",
       " 1.0  0.0  2.0  0.0  2.0  0.0  0.0  0.0  0.0  0.0\n",
       " 0.0  2.0  0.0  2.0  0.0  2.0  0.0  2.0  0.0  2.0\n",
       " 1.0  1.0  2.0  1.0  2.0  1.0  0.0  1.0  0.0  1.0\n",
       " 1.0  0.0  0.0  0.0  0.0  0.0  2.0  0.0  2.0  0.0"
      ]
     },
     "metadata": {},
     "output_type": "display_data"
    }
   ],
   "source": [
    "@show value.(x)"
   ]
  },
  {
   "cell_type": "code",
   "execution_count": 100,
   "metadata": {
    "scrolled": true
   },
   "outputs": [
    {
     "name": "stdout",
     "output_type": "stream",
     "text": [
      "objective_value(model) = 4175.0\n"
     ]
    },
    {
     "data": {
      "text/plain": [
       "4175.0"
      ]
     },
     "metadata": {},
     "output_type": "display_data"
    }
   ],
   "source": [
    "@show objective_value(model)"
   ]
  }
 ],
 "metadata": {
  "kernelspec": {
   "display_name": "Julia 1.9.3",
   "language": "julia",
   "name": "julia-1.9"
  },
  "language_info": {
   "file_extension": ".jl",
   "mimetype": "application/julia",
   "name": "julia",
   "version": "1.9.3"
  }
 },
 "nbformat": 4,
 "nbformat_minor": 4
}
